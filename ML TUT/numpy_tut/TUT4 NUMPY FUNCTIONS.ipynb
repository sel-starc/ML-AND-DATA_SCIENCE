{
 "cells": [
  {
   "cell_type": "markdown",
   "id": "9ca9e2bb",
   "metadata": {},
   "source": [
    "# NUMPY FUNC()"
   ]
  },
  {
   "cell_type": "code",
   "execution_count": 1,
   "id": "44f41ee8",
   "metadata": {},
   "outputs": [],
   "source": [
    "import numpy as np\n"
   ]
  },
  {
   "cell_type": "markdown",
   "id": "019db406",
   "metadata": {},
   "source": [
    "# ARANGE()\n"
   ]
  },
  {
   "cell_type": "code",
   "execution_count": 2,
   "id": "c740a4c9",
   "metadata": {
    "scrolled": true
   },
   "outputs": [
    {
     "name": "stdout",
     "output_type": "stream",
     "text": [
      "[ 1  2  3  4  5  6  7  8  9 10 11 12]\n"
     ]
    }
   ],
   "source": [
    "ar_1d=np.arange(1,13)#13 not included\n",
    "print(ar_1d)"
   ]
  },
  {
   "cell_type": "code",
   "execution_count": 3,
   "id": "2e45822b",
   "metadata": {},
   "outputs": [
    {
     "name": "stdout",
     "output_type": "stream",
     "text": [
      "[ 1  2  3  4  5  6  7  8  9 10 11 12]\n",
      "[ 1  3  5  7  9 11]\n"
     ]
    }
   ],
   "source": [
    "ar1_1ds=np.arange(1,13)\n",
    "print(ar1_1ds)\n",
    "ar1_1d=np.arange(1,13,2)#start,end,steps oskip in between\n",
    "print(ar1_1d)"
   ]
  },
  {
   "cell_type": "markdown",
   "id": "add50399",
   "metadata": {},
   "source": [
    "# LINSPACE()"
   ]
  },
  {
   "cell_type": "code",
   "execution_count": 4,
   "id": "3c9d77c5",
   "metadata": {},
   "outputs": [
    {
     "name": "stdout",
     "output_type": "stream",
     "text": [
      "[1. 3. 5.]\n",
      "[1.         1.83333333 2.66666667 3.5        4.33333333 5.16666667\n",
      " 6.        ]\n"
     ]
    }
   ],
   "source": [
    "arr_1d=np.linspace(1,5,3)#start,end,how many total element\n",
    "print(arr_1d)\n",
    "arr_1sd=np.linspace(1,6,7)\n",
    "print(arr_1sd)"
   ]
  },
  {
   "cell_type": "markdown",
   "id": "902a16f8",
   "metadata": {},
   "source": [
    "# RESHAPE()"
   ]
  },
  {
   "cell_type": "code",
   "execution_count": 6,
   "id": "38f84ee3",
   "metadata": {},
   "outputs": [
    {
     "name": "stdout",
     "output_type": "stream",
     "text": [
      "[[ 1  2]\n",
      " [ 3  4]\n",
      " [ 5  6]\n",
      " [ 7  8]\n",
      " [ 9 10]\n",
      " [11 12]]\n",
      "[[[ 1  2]\n",
      "  [ 3  4]\n",
      "  [ 5  6]]\n",
      "\n",
      " [[ 7  8]\n",
      "  [ 9 10]\n",
      "  [11 12]]]\n",
      "[[[ 1  2  3  4]]\n",
      "\n",
      " [[ 5  6  7  8]]\n",
      "\n",
      " [[ 9 10 11 12]]]\n",
      "[[ 1  2  3  4  5  6  7]\n",
      " [ 8  9 10 11 12 13 14]]\n"
     ]
    }
   ],
   "source": [
    "ar_2d=ar_1d.reshape(6,2)#row,column\n",
    "print(ar_2d)\n",
    "ar_3d=ar_1d.reshape(2,3,2)\n",
    "print(ar_3d)\n",
    "ar_3d=ar_1d.reshape(3,1,4)#3 compartments of 1 row and 4 columns\n",
    "print(ar_3d)\n",
    "ar3=np.arange(1,15).reshape(2,7)\n",
    "print(ar3)"
   ]
  },
  {
   "cell_type": "markdown",
   "id": "89d181d9",
   "metadata": {},
   "source": [
    "# ravel()"
   ]
  },
  {
   "cell_type": "code",
   "execution_count": 7,
   "id": "f57f9e0e",
   "metadata": {},
   "outputs": [
    {
     "data": {
      "text/plain": [
       "array([ 1,  2,  3,  4,  5,  6,  7,  8,  9, 10, 11, 12, 13, 14])"
      ]
     },
     "execution_count": 7,
     "metadata": {},
     "output_type": "execute_result"
    }
   ],
   "source": [
    "#multidimensional array in 1d\n",
    "ar3.ravel()"
   ]
  },
  {
   "cell_type": "markdown",
   "id": "6ef8f83f",
   "metadata": {},
   "source": [
    "# flatten()"
   ]
  },
  {
   "cell_type": "code",
   "execution_count": 18,
   "id": "1a31b96c",
   "metadata": {},
   "outputs": [
    {
     "data": {
      "text/plain": [
       "array([ 1,  2,  3,  4,  5,  6,  7,  8,  9, 10, 11, 12, 13, 14])"
      ]
     },
     "execution_count": 18,
     "metadata": {},
     "output_type": "execute_result"
    }
   ],
   "source": [
    "ar3.flatten() #bring pointer between parenthesis and press shift+tab"
   ]
  },
  {
   "cell_type": "markdown",
   "id": "286a1cf9",
   "metadata": {},
   "source": [
    "# transpose"
   ]
  },
  {
   "cell_type": "code",
   "execution_count": 19,
   "id": "2b793f8c",
   "metadata": {},
   "outputs": [
    {
     "data": {
      "text/plain": [
       "array([[ 1,  8],\n",
       "       [ 2,  9],\n",
       "       [ 3, 10],\n",
       "       [ 4, 11],\n",
       "       [ 5, 12],\n",
       "       [ 6, 13],\n",
       "       [ 7, 14]])"
      ]
     },
     "execution_count": 19,
     "metadata": {},
     "output_type": "execute_result"
    }
   ],
   "source": [
    "ar3.transpose()#initially 2 rows 7columns = now, 7 rows and 2 columns"
   ]
  },
  {
   "cell_type": "code",
   "execution_count": 20,
   "id": "8ba0e188",
   "metadata": {},
   "outputs": [
    {
     "data": {
      "text/plain": [
       "array([[ 1,  8],\n",
       "       [ 2,  9],\n",
       "       [ 3, 10],\n",
       "       [ 4, 11],\n",
       "       [ 5, 12],\n",
       "       [ 6, 13],\n",
       "       [ 7, 14]])"
      ]
     },
     "execution_count": 20,
     "metadata": {},
     "output_type": "execute_result"
    }
   ],
   "source": [
    "ar3.T"
   ]
  },
  {
   "cell_type": "code",
   "execution_count": null,
   "id": "136c471d",
   "metadata": {},
   "outputs": [],
   "source": []
  }
 ],
 "metadata": {
  "kernelspec": {
   "display_name": "Python 3 (ipykernel)",
   "language": "python",
   "name": "python3"
  },
  "language_info": {
   "codemirror_mode": {
    "name": "ipython",
    "version": 3
   },
   "file_extension": ".py",
   "mimetype": "text/x-python",
   "name": "python",
   "nbconvert_exporter": "python",
   "pygments_lexer": "ipython3",
   "version": "3.10.2"
  }
 },
 "nbformat": 4,
 "nbformat_minor": 5
}
